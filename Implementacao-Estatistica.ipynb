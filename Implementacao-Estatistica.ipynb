{
 "cells": [
  {
   "cell_type": "code",
   "execution_count": 65,
   "metadata": {},
   "outputs": [],
   "source": [
    "#Importação de bibliotecas\n",
    "%matplotlib inline\n",
    "import pandas as pd\n",
    "import matplotlib.pyplot as plt\n",
    "import numpy as np\n",
    "import math as math\n",
    "from collections import Counter\n",
    "low_memory=False"
   ]
  },
  {
   "cell_type": "code",
   "execution_count": 66,
   "metadata": {},
   "outputs": [],
   "source": [
    "#Leitura do arquivo\n",
    "enem_2019 = pd.read_csv('MICRODADOS_ENEM_2019.csv', sep=';', encoding='iso-8859-1', usecols=['NU_NOTA_REDACAO','TP_PRESENCA_LC','IN_TREINEIRO'])"
   ]
  },
  {
   "cell_type": "code",
   "execution_count": 67,
   "metadata": {},
   "outputs": [
    {
     "data": {
      "text/html": [
       "<div>\n",
       "<style scoped>\n",
       "    .dataframe tbody tr th:only-of-type {\n",
       "        vertical-align: middle;\n",
       "    }\n",
       "\n",
       "    .dataframe tbody tr th {\n",
       "        vertical-align: top;\n",
       "    }\n",
       "\n",
       "    .dataframe thead th {\n",
       "        text-align: right;\n",
       "    }\n",
       "</style>\n",
       "<table border=\"1\" class=\"dataframe\">\n",
       "  <thead>\n",
       "    <tr style=\"text-align: right;\">\n",
       "      <th></th>\n",
       "      <th>IN_TREINEIRO</th>\n",
       "      <th>TP_PRESENCA_LC</th>\n",
       "      <th>NU_NOTA_REDACAO</th>\n",
       "    </tr>\n",
       "  </thead>\n",
       "  <tbody>\n",
       "    <tr>\n",
       "      <th>0</th>\n",
       "      <td>0</td>\n",
       "      <td>1</td>\n",
       "      <td>780.0</td>\n",
       "    </tr>\n",
       "    <tr>\n",
       "      <th>1</th>\n",
       "      <td>1</td>\n",
       "      <td>1</td>\n",
       "      <td>600.0</td>\n",
       "    </tr>\n",
       "    <tr>\n",
       "      <th>2</th>\n",
       "      <td>0</td>\n",
       "      <td>1</td>\n",
       "      <td>640.0</td>\n",
       "    </tr>\n",
       "    <tr>\n",
       "      <th>3</th>\n",
       "      <td>0</td>\n",
       "      <td>0</td>\n",
       "      <td>NaN</td>\n",
       "    </tr>\n",
       "    <tr>\n",
       "      <th>4</th>\n",
       "      <td>0</td>\n",
       "      <td>0</td>\n",
       "      <td>NaN</td>\n",
       "    </tr>\n",
       "  </tbody>\n",
       "</table>\n",
       "</div>"
      ],
      "text/plain": [
       "   IN_TREINEIRO  TP_PRESENCA_LC  NU_NOTA_REDACAO\n",
       "0             0               1            780.0\n",
       "1             1               1            600.0\n",
       "2             0               1            640.0\n",
       "3             0               0              NaN\n",
       "4             0               0              NaN"
      ]
     },
     "execution_count": 67,
     "metadata": {},
     "output_type": "execute_result"
    }
   ],
   "source": [
    "enem_2019.head()"
   ]
  },
  {
   "cell_type": "code",
   "execution_count": 68,
   "metadata": {},
   "outputs": [],
   "source": [
    "#Selecionando candidatos presentes na prova e que não fizeram a prova como treinamento\n",
    "enem_2019.query('IN_TREINEIRO == 0 and TP_PRESENCA_LC == 1', inplace = True)"
   ]
  },
  {
   "cell_type": "code",
   "execution_count": 69,
   "metadata": {},
   "outputs": [
    {
     "data": {
      "text/html": [
       "<div>\n",
       "<style scoped>\n",
       "    .dataframe tbody tr th:only-of-type {\n",
       "        vertical-align: middle;\n",
       "    }\n",
       "\n",
       "    .dataframe tbody tr th {\n",
       "        vertical-align: top;\n",
       "    }\n",
       "\n",
       "    .dataframe thead th {\n",
       "        text-align: right;\n",
       "    }\n",
       "</style>\n",
       "<table border=\"1\" class=\"dataframe\">\n",
       "  <thead>\n",
       "    <tr style=\"text-align: right;\">\n",
       "      <th></th>\n",
       "      <th>IN_TREINEIRO</th>\n",
       "      <th>TP_PRESENCA_LC</th>\n",
       "      <th>NU_NOTA_REDACAO</th>\n",
       "    </tr>\n",
       "  </thead>\n",
       "  <tbody>\n",
       "    <tr>\n",
       "      <th>0</th>\n",
       "      <td>0</td>\n",
       "      <td>1</td>\n",
       "      <td>780.0</td>\n",
       "    </tr>\n",
       "    <tr>\n",
       "      <th>2</th>\n",
       "      <td>0</td>\n",
       "      <td>1</td>\n",
       "      <td>640.0</td>\n",
       "    </tr>\n",
       "    <tr>\n",
       "      <th>5</th>\n",
       "      <td>0</td>\n",
       "      <td>1</td>\n",
       "      <td>580.0</td>\n",
       "    </tr>\n",
       "    <tr>\n",
       "      <th>6</th>\n",
       "      <td>0</td>\n",
       "      <td>1</td>\n",
       "      <td>360.0</td>\n",
       "    </tr>\n",
       "    <tr>\n",
       "      <th>7</th>\n",
       "      <td>0</td>\n",
       "      <td>1</td>\n",
       "      <td>480.0</td>\n",
       "    </tr>\n",
       "  </tbody>\n",
       "</table>\n",
       "</div>"
      ],
      "text/plain": [
       "   IN_TREINEIRO  TP_PRESENCA_LC  NU_NOTA_REDACAO\n",
       "0             0               1            780.0\n",
       "2             0               1            640.0\n",
       "5             0               1            580.0\n",
       "6             0               1            360.0\n",
       "7             0               1            480.0"
      ]
     },
     "execution_count": 69,
     "metadata": {},
     "output_type": "execute_result"
    }
   ],
   "source": [
    "enem_2019.head()"
   ]
  },
  {
   "cell_type": "code",
   "execution_count": 70,
   "metadata": {},
   "outputs": [],
   "source": [
    "#Selecionando coluna com apenas as notas de redação\n",
    "data = enem_2019.drop(columns=['TP_PRESENCA_LC','IN_TREINEIRO'])"
   ]
  },
  {
   "cell_type": "code",
   "execution_count": 84,
   "metadata": {},
   "outputs": [],
   "source": [
    "data_ordenado = data.sort_values(by='NU_NOTA_REDACAO')"
   ]
  },
  {
   "cell_type": "code",
   "execution_count": 85,
   "metadata": {},
   "outputs": [
    {
     "data": {
      "text/html": [
       "<div>\n",
       "<style scoped>\n",
       "    .dataframe tbody tr th:only-of-type {\n",
       "        vertical-align: middle;\n",
       "    }\n",
       "\n",
       "    .dataframe tbody tr th {\n",
       "        vertical-align: top;\n",
       "    }\n",
       "\n",
       "    .dataframe thead th {\n",
       "        text-align: right;\n",
       "    }\n",
       "</style>\n",
       "<table border=\"1\" class=\"dataframe\">\n",
       "  <thead>\n",
       "    <tr style=\"text-align: right;\">\n",
       "      <th></th>\n",
       "      <th>NU_NOTA_REDACAO</th>\n",
       "    </tr>\n",
       "  </thead>\n",
       "  <tbody>\n",
       "    <tr>\n",
       "      <th>2825830</th>\n",
       "      <td>0.0</td>\n",
       "    </tr>\n",
       "    <tr>\n",
       "      <th>1712794</th>\n",
       "      <td>0.0</td>\n",
       "    </tr>\n",
       "    <tr>\n",
       "      <th>1712751</th>\n",
       "      <td>0.0</td>\n",
       "    </tr>\n",
       "    <tr>\n",
       "      <th>1712750</th>\n",
       "      <td>0.0</td>\n",
       "    </tr>\n",
       "    <tr>\n",
       "      <th>2474147</th>\n",
       "      <td>0.0</td>\n",
       "    </tr>\n",
       "  </tbody>\n",
       "</table>\n",
       "</div>"
      ],
      "text/plain": [
       "         NU_NOTA_REDACAO\n",
       "2825830              0.0\n",
       "1712794              0.0\n",
       "1712751              0.0\n",
       "1712750              0.0\n",
       "2474147              0.0"
      ]
     },
     "execution_count": 85,
     "metadata": {},
     "output_type": "execute_result"
    }
   ],
   "source": [
    "data_ordenado.head()"
   ]
  },
  {
   "cell_type": "code",
   "execution_count": 87,
   "metadata": {},
   "outputs": [
    {
     "name": "stdout",
     "output_type": "stream",
     "text": [
      "NU_NOTA_REDACAO    571.291265\n",
      "dtype: float64\n"
     ]
    }
   ],
   "source": [
    "#Média\n",
    "media = data_ordenado.mean()\n",
    "print(media)"
   ]
  },
  {
   "cell_type": "code",
   "execution_count": 74,
   "metadata": {},
   "outputs": [
    {
     "name": "stdout",
     "output_type": "stream",
     "text": [
      "NU_NOTA_REDACAO    580.0\n",
      "dtype: float64\n"
     ]
    }
   ],
   "source": [
    "#Mediana\n",
    "mediana = data_ordenado.median()\n",
    "print(mediana)"
   ]
  },
  {
   "cell_type": "code",
   "execution_count": 75,
   "metadata": {},
   "outputs": [
    {
     "name": "stdout",
     "output_type": "stream",
     "text": [
      "NU_NOTA_REDACAO    0.0\n",
      "dtype: float64\n"
     ]
    }
   ],
   "source": [
    "#Menor\n",
    "menor = data_ordenado.min()\n",
    "print(menor)"
   ]
  },
  {
   "cell_type": "code",
   "execution_count": 76,
   "metadata": {},
   "outputs": [
    {
     "name": "stdout",
     "output_type": "stream",
     "text": [
      "NU_NOTA_REDACAO    1000.0\n",
      "dtype: float64\n"
     ]
    }
   ],
   "source": [
    "#Maior\n",
    "maior =data_ordenado.max()\n",
    "print(maior)"
   ]
  },
  {
   "cell_type": "code",
   "execution_count": 77,
   "metadata": {},
   "outputs": [
    {
     "name": "stdout",
     "output_type": "stream",
     "text": [
      "NU_NOTA_REDACAO    1000.0\n",
      "dtype: float64\n"
     ]
    }
   ],
   "source": [
    "#Amplitude total\n",
    "at = maior - menor\n",
    "print(at)"
   ]
  },
  {
   "cell_type": "code",
   "execution_count": 80,
   "metadata": {},
   "outputs": [
    {
     "name": "stdout",
     "output_type": "stream",
     "text": [
      "560.0     237106\n",
      "600.0     236514\n",
      "580.0     215306\n",
      "620.0     173830\n",
      "520.0     171919\n",
      "540.0     171279\n",
      "640.0     168459\n",
      "480.0     145167\n",
      "500.0     121920\n",
      "0.0       117484\n",
      "680.0     114775\n",
      "660.0     109395\n",
      "460.0      99708\n",
      "440.0      94988\n",
      "720.0      86545\n",
      "700.0      79191\n",
      "760.0      71228\n",
      "740.0      62326\n",
      "400.0      59868\n",
      "800.0      59474\n",
      "320.0      58122\n",
      "360.0      54740\n",
      "420.0      54344\n",
      "840.0      52174\n",
      "780.0      51264\n",
      "880.0      48122\n",
      "920.0      46211\n",
      "820.0      43726\n",
      "340.0      40916\n",
      "900.0      39647\n",
      "300.0      38812\n",
      "860.0      38683\n",
      "380.0      37742\n",
      "280.0      36973\n",
      "940.0      36442\n",
      "960.0      25286\n",
      "260.0      21887\n",
      "240.0      16737\n",
      "980.0       8786\n",
      "220.0       6197\n",
      "200.0       3523\n",
      "180.0       1185\n",
      "160.0        854\n",
      "140.0        317\n",
      "120.0        208\n",
      "80.0         112\n",
      "100.0         74\n",
      "40.0          57\n",
      "60.0          54\n",
      "1000.0        51\n",
      "Name: NU_NOTA_REDACAO, dtype: int64\n"
     ]
    }
   ],
   "source": [
    "#Frequência de notas\n",
    "freq = data_ordenado['NU_NOTA_REDACAO'].value_counts()\n",
    "print(freq)"
   ]
  },
  {
   "cell_type": "code",
   "execution_count": 88,
   "metadata": {},
   "outputs": [
    {
     "name": "stdout",
     "output_type": "stream",
     "text": [
      "   NU_NOTA_REDACAO\n",
      "0            560.0\n"
     ]
    }
   ],
   "source": [
    "#Moda\n",
    "moda = data_ordenado.mode()\n",
    "print(moda)"
   ]
  },
  {
   "cell_type": "code",
   "execution_count": 81,
   "metadata": {},
   "outputs": [
    {
     "name": "stdout",
     "output_type": "stream",
     "text": [
      "NU_NOTA_REDACAO    188.229583\n",
      "dtype: float64\n"
     ]
    }
   ],
   "source": [
    "#Desvio padrão\n",
    "dp = data_ordenado.std()\n",
    "print(dp)"
   ]
  },
  {
   "cell_type": "code",
   "execution_count": 89,
   "metadata": {},
   "outputs": [
    {
     "name": "stdout",
     "output_type": "stream",
     "text": [
      "NU_NOTA_REDACAO    35430.375773\n",
      "dtype: float64\n"
     ]
    }
   ],
   "source": [
    "#Variância\n",
    "variancia = data_ordenado.var()\n",
    "print(variancia)"
   ]
  },
  {
   "cell_type": "code",
   "execution_count": null,
   "metadata": {},
   "outputs": [],
   "source": []
  }
 ],
 "metadata": {
  "kernelspec": {
   "display_name": "Python 3",
   "language": "python",
   "name": "python3"
  },
  "language_info": {
   "codemirror_mode": {
    "name": "ipython",
    "version": 3
   },
   "file_extension": ".py",
   "mimetype": "text/x-python",
   "name": "python",
   "nbconvert_exporter": "python",
   "pygments_lexer": "ipython3",
   "version": "3.6.9"
  }
 },
 "nbformat": 4,
 "nbformat_minor": 4
}
